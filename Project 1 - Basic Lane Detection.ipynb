{
 "cells": [
  {
   "cell_type": "markdown",
   "metadata": {},
   "source": [
    "## Self-Driving Car Engineer Nanodegree\n",
    "### Project: Finding Lanes on the Road\n",
    "\n",
    "In this project I built a pipeline to analyze video clips on a frame-by-frame basis and detect the lines on the road. \n",
    "The basic pipeline follows these steps: \n",
    "\n",
    "- Turn color image to grey scale and apply gamma correction to enhance whites\n",
    "- Apply a white color mask to grey scale image\n",
    "- Apply a yellow color mask to color image\n",
    "- Combine color masks\n",
    "- Select a region of interest and filter out anything outside of it\n",
    "- Apply a gaussian blur to the combined mask\n",
    "- Perform Canny edge detection\n",
    "- Apply a Hough transform to detect lines\n",
    "- Interpolate and consolidate detected lines into two lines: one for the left side of the road and one for the right\n",
    "\n",
    "### Python Code\n",
    "Import relevant libraries:"
   ]
  },
  {
   "cell_type": "code",
   "execution_count": 1,
   "metadata": {
    "collapsed": true
   },
   "outputs": [],
   "source": [
    "from moviepy.editor import VideoFileClip\n",
    "import numpy as np\n",
    "import cv2\n",
    "import math"
   ]
  },
  {
   "cell_type": "markdown",
   "metadata": {},
   "source": [
    "### Color Selection"
   ]
  },
  {
   "cell_type": "code",
   "execution_count": 2,
   "metadata": {
    "collapsed": true
   },
   "outputs": [],
   "source": [
    "def grayscale(img):\n",
    "    \"\"\"Applies the Grayscale transform\n",
    "    This will return an image with only one color channel\n",
    "    but NOTE: to see the returned image as grayscale\n",
    "    (assuming your grayscaled image is called 'gray')\n",
    "    you should call plt.imshow(gray, cmap='gray')\"\"\"\n",
    "    return cv2.cvtColor(img, cv2.COLOR_RGB2GRAY)\n",
    "\n",
    "def adjust_gamma(image, gamma=1.0):\n",
    "    # build a lookup table mapping the pixel values [0, 255] to\n",
    "    # their adjusted gamma values\n",
    "    invGamma = 1.0 / gamma\n",
    "    table = np.array([((i / 255.0) ** invGamma) * 255\n",
    "        for i in np.arange(0, 256)]).astype(\"uint8\")\n",
    " \n",
    "    # apply gamma correction using the lookup table\n",
    "    return cv2.LUT(image, table)\n",
    "\n",
    "def mask_white(image):\n",
    "    [ret, thresholded] = cv2.threshold(image, 150, 255, cv2.THRESH_BINARY)\n",
    "    return thresholded\n",
    "\n",
    "def mask_yellow(image):\n",
    "    hsv = cv2.cvtColor(image, cv2.COLOR_RGB2HSV)\n",
    "    lower = np.array((15,60,100))\n",
    "    upper = np.array((40,255,255))\n",
    "    yellow_mask = cv2.inRange(hsv, lower, upper)\n",
    "    return cv2.bitwise_and(image, image, mask = yellow_mask)"
   ]
  },
  {
   "cell_type": "markdown",
   "metadata": {},
   "source": [
    "### Roi Selection"
   ]
  },
  {
   "cell_type": "code",
   "execution_count": 3,
   "metadata": {
    "collapsed": true
   },
   "outputs": [],
   "source": [
    "def region_of_interest(img, vertices):\n",
    "    \"\"\"\n",
    "    Applies an image mask.\n",
    "    \n",
    "    Only keeps the region of the image defined by the polygon\n",
    "    formed from `vertices`. The rest of the image is set to black.\n",
    "    \"\"\"\n",
    "    #defining a blank mask to start with\n",
    "    mask = np.zeros_like(img)   \n",
    "    \n",
    "    #defining a 3 channel or 1 channel color to fill the mask with depending on the input image\n",
    "    if len(img.shape) > 2:\n",
    "        channel_count = img.shape[2]  # i.e. 3 or 4 depending on your image\n",
    "        ignore_mask_color = (255,) * channel_count\n",
    "    else:\n",
    "        ignore_mask_color = 255\n",
    "        \n",
    "    #filling pixels inside the polygon defined by \"vertices\" with the fill color    \n",
    "    cv2.fillPoly(mask, vertices, ignore_mask_color)\n",
    "    \n",
    "    #returning the image only where mask pixels are nonzero\n",
    "    masked_image = cv2.bitwise_and(img, mask)\n",
    "    return masked_image"
   ]
  },
  {
   "cell_type": "markdown",
   "metadata": {},
   "source": [
    "### Gaussian Blur"
   ]
  },
  {
   "cell_type": "code",
   "execution_count": 4,
   "metadata": {
    "collapsed": true
   },
   "outputs": [],
   "source": [
    "def gaussian_blur(img, kernel_size):\n",
    "    \"\"\"Applies a Gaussian Noise kernel\"\"\"\n",
    "    return cv2.GaussianBlur(img, (kernel_size, kernel_size), 0)"
   ]
  },
  {
   "cell_type": "markdown",
   "metadata": {},
   "source": [
    "### Edge Detection"
   ]
  },
  {
   "cell_type": "code",
   "execution_count": 5,
   "metadata": {
    "collapsed": true
   },
   "outputs": [],
   "source": [
    "def canny(img, low_threshold, high_threshold):\n",
    "    \"\"\"Applies the Canny transform\"\"\"\n",
    "    return cv2.Canny(img, low_threshold, high_threshold)"
   ]
  },
  {
   "cell_type": "markdown",
   "metadata": {},
   "source": [
    "### Line Detection and Interpolation\n",
    "Line interpolation is performed by calculating the slope and x and y axes intercepts. The lines are classified according to their slope (positive or negative) constrained to having the intercept with the x axis (on the bottom of the image) at the correct half of the image (left half for left line, right half for right line). Lastly, a weighted average is performed on the two groups, using the length of the line as its weight. "
   ]
  },
  {
   "cell_type": "code",
   "execution_count": 11,
   "metadata": {
    "collapsed": true
   },
   "outputs": [],
   "source": [
    "def average_lines(lines, imwidth, imheight):\n",
    "    \n",
    "    left_lines    = [] # [slope, yintercept, length]\n",
    "    right_lines   = [] # [slope, yintercept, length]\n",
    "    \n",
    "    for line in lines:\n",
    "        for x1, y1, x2, y2 in line:\n",
    "            if x2==x1:\n",
    "                continue # ignore a vertical line\n",
    "            \n",
    "            slope = (y2-y1)/(x2-x1)\n",
    "            \n",
    "            if abs(slope) < 0.5:\n",
    "                continue   # ignore slopes smaller than 0.5\n",
    "                \n",
    "            yintercept = y1 - slope*x1\n",
    "            xintercept = (imheight-yintercept) / slope   # intercept of the line with the bottom of the image\n",
    "            length = np.sqrt((y2-y1)**2+(x2-x1)**2)\n",
    "            \n",
    "            if length > 10:     # discard small segments \n",
    "                if slope < 0 and xintercept >=0 and xintercept <= imwidth/2: \n",
    "                    left_lines.append([slope, yintercept, length])\n",
    "                elif slope > 0 and xintercept >= imwidth/2 and xintercept <= imwidth:\n",
    "                    right_lines.append([slope, yintercept, length])\n",
    "    \n",
    "    if len(left_lines) > 0:\n",
    "        left_lines = np.array(left_lines)\n",
    "        left_idx = get_valid_indexes(left_lines[:, 0], std=1.5)\n",
    "        left_lines = left_lines[left_idx, :]\n",
    "        left_weights = left_lines[:, 2]\n",
    "    else:\n",
    "        left_weights = []\n",
    "    \n",
    "    if len(right_lines) > 0:\n",
    "        right_lines = np.array(right_lines)\n",
    "        right_idx = get_valid_indexes(right_lines[:, 0], std=1.5)\n",
    "        right_lines = right_lines[right_idx, :]\n",
    "        right_weights = right_lines[:, 2]\n",
    "    else:\n",
    "        right_weights = []\n",
    "    \n",
    "    # weighted average of lines that uses the length of the lines as a weight   \n",
    "    left_lane  = np.dot(left_weights,  left_lines[:, 0:2]) /np.sum(left_weights)  if len(left_weights) >0 else None\n",
    "    right_lane = np.dot(right_weights, right_lines[:, 0:2])/np.sum(right_weights) if len(right_weights)>0 else None\n",
    "    \n",
    "    # Convert back to pixel coordinates\n",
    "    y1 = float(imheight)\n",
    "    y2 = y1 * 0.6\n",
    "    lLine = ((int((y1 - left_lane[1]) /left_lane[0]),  int(y1)), (int((y2 - left_lane[1]) /left_lane[0]),  int(y2))) if left_lane != None else None\n",
    "    rLine = ((int((y1 - right_lane[1])/right_lane[0]), int(y1)), (int((y2 - right_lane[1])/right_lane[0]), int(y2))) if right_lane != None else None\n",
    "    \n",
    "    \n",
    "    return lLine, rLine \n",
    "\n",
    "def draw_lines(img, lines, color=[255, 0, 0], thickness=10):\n",
    "    \"\"\"\n",
    "    NOTE: this is the function you might want to use as a starting point once you want to \n",
    "    average/extrapolate the line segments you detect to map out the full\n",
    "    extent of the lane (going from the result shown in raw-lines-example.mp4\n",
    "    to that shown in P1_example.mp4).  \n",
    "    \n",
    "    Think about things like separating line segments by their \n",
    "    slope ((y2-y1)/(x2-x1)) to decide which segments are part of the left\n",
    "    line vs. the right line.  Then, you can average the position of each of \n",
    "    the lines and extrapolate to the top and bottom of the lane.\n",
    "    \n",
    "    This function draws `lines` with `color` and `thickness`.    \n",
    "    Lines are drawn on the image inplace (mutates the image).\n",
    "    If you want to make the lines semi-transparent, think about combining\n",
    "    this function with the weighted_img() function below\n",
    "    \"\"\"\n",
    "            \n",
    "    for line in lines:\n",
    "        if line is not None:\n",
    "            cv2.line(img, *line,  color, thickness)\n",
    "\n",
    "def hough_lines(img, rho, theta, threshold, min_line_len, max_line_gap):\n",
    "    \"\"\"\n",
    "    `img` should be the output of a Canny transform.\n",
    "        \n",
    "    Returns an image with hough lines drawn.\n",
    "    \"\"\"\n",
    "    lines = cv2.HoughLinesP(img, rho, theta, threshold, np.array([]), minLineLength=min_line_len, maxLineGap=max_line_gap)\n",
    "    line_img = np.zeros((img.shape[0], img.shape[1], 3), dtype=np.uint8)\n",
    "    \n",
    "    newlines = average_lines(lines, line_img.shape[1], line_img.shape[0])\n",
    "    draw_lines(line_img, newlines)\n",
    "    return line_img"
   ]
  },
  {
   "cell_type": "markdown",
   "metadata": {},
   "source": [
    "### Other auxiliary functions"
   ]
  },
  {
   "cell_type": "code",
   "execution_count": 7,
   "metadata": {
    "collapsed": true
   },
   "outputs": [],
   "source": [
    "def weighted_img(img, initial_img, α=0.8, β=1., λ=0.):\n",
    "    \"\"\"\n",
    "    `img` is the output of the hough_lines(), An image with lines drawn on it.\n",
    "    Should be a blank image (all black) with lines drawn on it.\n",
    "    \n",
    "    `initial_img` should be the image before any processing.\n",
    "    \n",
    "    The result image is computed as follows:\n",
    "    \n",
    "    initial_img * α + img * β + λ\n",
    "    NOTE: initial_img and img must be the same shape!\n",
    "    \"\"\"\n",
    "    return cv2.addWeighted(initial_img, α, img, β, λ)\n",
    "\n",
    "def get_valid_indexes(observed, std=1.5):\n",
    "    return np.array(abs(observed - np.mean(observed)) < std*np.std(observed))"
   ]
  },
  {
   "cell_type": "markdown",
   "metadata": {},
   "source": [
    "### Applying the pipeline to videos"
   ]
  },
  {
   "cell_type": "code",
   "execution_count": 12,
   "metadata": {},
   "outputs": [
    {
     "name": "stdout",
     "output_type": "stream",
     "text": [
      "[MoviePy] >>>> Building video test_videos/processed/solidWhiteRight.mp4\n",
      "[MoviePy] Writing video test_videos/processed/solidWhiteRight.mp4\n"
     ]
    },
    {
     "name": "stderr",
     "output_type": "stream",
     "text": [
      "100%|█████████▉| 221/222 [00:03<00:00, 62.57it/s]\n"
     ]
    },
    {
     "name": "stdout",
     "output_type": "stream",
     "text": [
      "[MoviePy] Done.\n",
      "[MoviePy] >>>> Video ready: test_videos/processed/solidWhiteRight.mp4 \n",
      "\n",
      "[MoviePy] >>>> Building video test_videos/processed/solidYellowLeft.mp4\n",
      "[MoviePy] Writing video test_videos/processed/solidYellowLeft.mp4\n"
     ]
    },
    {
     "name": "stderr",
     "output_type": "stream",
     "text": [
      "100%|█████████▉| 681/682 [00:11<00:00, 60.44it/s]\n"
     ]
    },
    {
     "name": "stdout",
     "output_type": "stream",
     "text": [
      "[MoviePy] Done.\n",
      "[MoviePy] >>>> Video ready: test_videos/processed/solidYellowLeft.mp4 \n",
      "\n"
     ]
    }
   ],
   "source": [
    "class LaneDetector(object):\n",
    "\n",
    "    def __init__(self):\n",
    "        '''\n",
    "        Constructor\n",
    "        '''\n",
    "        pass\n",
    "    \n",
    "    def process(self, input_video, output_video):\n",
    "        original = VideoFileClip(input_video)\n",
    "        marked = original.fl_image(self.pipeline_for_frame) \n",
    "        marked.write_videofile(output_video, audio=False)\n",
    "\n",
    "    def pipeline_for_frame(self, image):\n",
    "        \n",
    "        imshape = image.shape\n",
    "        grey = grayscale(image)\n",
    "        gamma_corrected = adjust_gamma(grey, 0.3)\n",
    "        yellow_mask = mask_yellow(image)\n",
    "        vertices = np.array([[(0,imshape[0]),(int((imshape[1]/2)*0.97), int((imshape[0]/2)*1.2)), (int((imshape[1]/2)*1.03), int((imshape[0]/2)*1.2)), (imshape[1],imshape[0])]], dtype=np.int32)\n",
    "        yellow_mask_filtered = region_of_interest(yellow_mask, vertices)\n",
    "    \n",
    "        white_mask = mask_white(gamma_corrected)\n",
    "        white_mask_filtered = region_of_interest(white_mask, vertices)\n",
    "        \n",
    "        thresh = 127\n",
    "        [ret, yellow_mask_filtered_bw] = cv2.threshold(grayscale(yellow_mask_filtered), thresh, 255, cv2.THRESH_BINARY)\n",
    "        combined_mask = weighted_img(yellow_mask_filtered_bw, white_mask_filtered, 1.0)\n",
    "        \n",
    "        blurred_mask = gaussian_blur(combined_mask, 7)\n",
    "\n",
    "        canny_edges = canny(blurred_mask, 230, 250)\n",
    "        \n",
    "        rho = 2 # distance resolution in pixels of the Hough grid\n",
    "        theta = np.pi/180 # angular resolution in radians of the Hough grid\n",
    "        threshold = 5     # minimum number of votes (intersections in Hough grid cell)\n",
    "        min_line_length = 20 #minimum number of pixels making up a line\n",
    "        max_line_gap = 10    # maximum gap in pixels between connectable line segments\n",
    "        hough_lines_image = hough_lines(canny_edges, rho, theta, threshold, min_line_length, max_line_gap)\n",
    "        \n",
    "        output = weighted_img(hough_lines_image, image, 0.8, 1.0)\n",
    "        return output\n",
    "\n",
    "    \n",
    "import os\n",
    "    \n",
    "input_dir = \"test_videos/\"\n",
    "output_dir = os.path.join(input_dir, \"processed\")\n",
    "input_videos = os.listdir(input_dir)\n",
    "    \n",
    "if not os.path.exists(output_dir):\n",
    "    os.makedirs(output_dir)\n",
    "        \n",
    "detector = LaneDetector()\n",
    "    \n",
    "for v in input_videos:\n",
    "    extension = v.split(\".\")[-1]\n",
    "    if extension == 'mp4':\n",
    "        in_file = os.path.join(input_dir, v)\n",
    "        out_file = os.path.join(output_dir, v)\n",
    "        detector.process(in_file, out_file)"
   ]
  },
  {
   "cell_type": "code",
   "execution_count": null,
   "metadata": {
    "collapsed": true
   },
   "outputs": [],
   "source": []
  }
 ],
 "metadata": {
  "kernelspec": {
   "display_name": "Python 3",
   "language": "python",
   "name": "python3"
  },
  "language_info": {
   "codemirror_mode": {
    "name": "ipython",
    "version": 3
   },
   "file_extension": ".py",
   "mimetype": "text/x-python",
   "name": "python",
   "nbconvert_exporter": "python",
   "pygments_lexer": "ipython3",
   "version": "3.5.2"
  },
  "widgets": {
   "state": {},
   "version": "1.1.2"
  }
 },
 "nbformat": 4,
 "nbformat_minor": 2
}
